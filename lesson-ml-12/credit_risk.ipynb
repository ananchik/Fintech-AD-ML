{
 "cells": [
  {
   "cell_type": "code",
   "execution_count": 1,
   "metadata": {},
   "outputs": [],
   "source": [
    "# Внимание! \n",
    "# Запрещается вносить изменения в наименования в переменных, путей к файлам и их имена\n",
    "#\n",
    "# Напоминание: под моделью машинного обучения понимаются все действия с исходными данными, \n",
    "# которые необходимо произвести, что бы сопоставить признаки целевому значению"
   ]
  },
  {
   "cell_type": "markdown",
   "metadata": {},
   "source": [
    "### Цель работы - наиболее точно предсказать кредитные риски (`credit_risk`)\n",
    "\n",
    "`status:`                                             \n",
    " 1. no checking account                       \n",
    " 2. ... $<$ 0 \\$                                \n",
    " 3. 0 $\\le $ ... $<$ 200 \\$                          \n",
    " 4. ... $\\ge$ 200 \\$  salary for at least 1 year\n",
    "\n",
    "`duration`\n",
    "     \n",
    "`credit_history`                                                \n",
    " \n",
    " 0. delay in paying off in the past            \n",
    " 1. critical account/other credits elsewhere   \n",
    " 2. no credits taken/all credits paid back duly\n",
    " 3. existing credits paid back duly till now   \n",
    " 4. all credits at this bank paid back duly    \n",
    "\n",
    "`purpose`\n",
    "                        \n",
    " 0. others             \n",
    " 1. car (new)          \n",
    " 2. car (used)         \n",
    " 3. furniture/equipment\n",
    " 4. radio/television   \n",
    " 5. domestic appliances\n",
    " 6. repairs            \n",
    " 7. education          \n",
    " 8. vacation           \n",
    " 9. retraining         \n",
    " 10. business          \n",
    "\n",
    "`amount`\n",
    "     \n",
    "\n",
    "`savings`\n",
    "                               \n",
    " 1. unknown/no savings account\n",
    " 2.  $...$ $<$  100 \\$             \n",
    " 3.  100 $\\le$ $...$ $<$  500 \\$      \n",
    " 4.  500 $\\le$ $...$ $<$ 1000 \\$      \n",
    " 5.  $...$ $\\ge$ 1000 \\$            \n",
    "\n",
    "`employment_duration`\n",
    "                     \n",
    " 1. unemployed      \n",
    " 2. $<$ 1 yr          \n",
    " 3. 1 $\\le$ $...$ $<$ 4 yrs\n",
    " 4. 4 $\\le$ $...$ $<$ 7 yrs\n",
    " 5. $\\ge$ 7 yrs        \n",
    "\n",
    "`installment_rate`\n",
    "                   \n",
    " 1. $\\ge$ 35         \n",
    " 2. 25 $\\le$ $...$ $<$ 35\n",
    " 3. 20 $\\le$ $...$ $<$ 25\n",
    " 4. < 20          \n",
    "\n",
    "`personal_status_sex`\n",
    "                                         \n",
    " 1. male : divorced/separated           \n",
    " 2. female : non-single or male : single\n",
    " 3. male : married/widowed              \n",
    " 4. female : single                     \n",
    "\n",
    "`other_debtors`\n",
    "                 \n",
    " 1. none        \n",
    " 2. co-applicant\n",
    " 3. guarantor   \n",
    "\n",
    "`present_residence`\n",
    "                     \n",
    " 1. $<$ 1 yr          \n",
    " 2. 1 $\\le$ $...$ $<$ 4 yrs\n",
    " 3. 4 $\\le$ $...$ $<$ 7 yrs\n",
    " 4. $\\ge$ 7 yrs        \n",
    "\n",
    "`property`\n",
    "                                              \n",
    " 1. unknown / no property                    \n",
    " 2. car or other                             \n",
    " 3. building soc. savings agr./life insurance\n",
    " 4. real estate                              \n",
    "\n",
    "`age`\n",
    "     \n",
    "\n",
    "`other_installment_plans`\n",
    "           \n",
    " 1. bank  \n",
    " 2. stores\n",
    " 3. none  \n",
    "\n",
    "`housing `\n",
    "             \n",
    " 1. for free\n",
    " 2. rent    \n",
    " 3. own     \n",
    "\n",
    "`number_credits`\n",
    "         \n",
    " 1. 1   \n",
    " 2. 2-3 \n",
    " 3. 4-5 \n",
    " 4. $\\ge$ 6\n",
    "\n",
    "`job `\n",
    "                                               \n",
    " 1. unemployed/unskilled - non-resident       \n",
    " 2. unskilled - resident                      \n",
    " 3. skilled employee/official                 \n",
    " 4. manager/self-empl./highly qualif. employee\n",
    "\n",
    "`people_liable`\n",
    "              \n",
    " 1. 3 or more\n",
    " 2. 0 to 2   \n",
    "\n",
    "`telephone`\n",
    "                              \n",
    " 1. no                       \n",
    " 2. yes (under customer name)\n",
    "\n",
    "`foreign_worker`\n",
    "        \n",
    " 1. yes\n",
    " 2. no \n",
    "\n",
    "`credit_risk`\n",
    "         \n",
    " 0. bad (кредит не вернут)\n",
    " 1. good (кредит вернут)\n",
    "\n"
   ]
  },
  {
   "cell_type": "markdown",
   "metadata": {},
   "source": [
    "### Область работы 1 (библиотеки)"
   ]
  },
  {
   "cell_type": "code",
   "execution_count": 2,
   "metadata": {},
   "outputs": [],
   "source": [
    "# Данный блок в области 1 выполняется преподавателем\n",
    "# \n",
    "# данный блок предназначен только для подключения необходимых библиотек\n",
    "# запрещается подключать библиотеки в других блоках\n",
    "#\n",
    "# установка дополнительных библиотек размещается прямо здесь (обязательно закоментированы)\n",
    "#\n",
    "# pip install"
   ]
  },
  {
   "cell_type": "code",
   "execution_count": null,
   "metadata": {},
   "outputs": [],
   "source": [
    "import\n"
   ]
  },
  {
   "cell_type": "markdown",
   "metadata": {},
   "source": [
    "### Область работы 2 (поиск лучшей модели)"
   ]
  },
  {
   "cell_type": "code",
   "execution_count": 3,
   "metadata": {},
   "outputs": [],
   "source": [
    "# Данный блок(и) НЕ выполняются преподавателем в области 2\n",
    "# блок(и) предназначены для поиска лучшей модели\n",
    "# \n",
    "# Запрещается размещать данные блоки за пределами обасти 2\n",
    "# Все блоки данной области должны быть выполнены\n",
    "#\n",
    "# Путь к файлу(ам) (запрещено изменять)\n",
    "# В данной области запрещается использовать другие файлы с данными\n",
    "path_train = 'train.csv'"
   ]
  },
  {
   "cell_type": "code",
   "execution_count": null,
   "metadata": {},
   "outputs": [],
   "source": []
  },
  {
   "cell_type": "code",
   "execution_count": null,
   "metadata": {},
   "outputs": [],
   "source": []
  },
  {
   "cell_type": "code",
   "execution_count": null,
   "metadata": {},
   "outputs": [],
   "source": []
  },
  {
   "cell_type": "markdown",
   "metadata": {},
   "source": [
    "### Область работы 3 (выполнение лучшей модели)"
   ]
  },
  {
   "cell_type": "code",
   "execution_count": 4,
   "metadata": {},
   "outputs": [],
   "source": [
    "# Данный блок(и) в области 3 выполняется преподавателем\n",
    "# \n",
    "# Запрещается вносить изменения в наименования в переменных и путей к файлам определенные преподавателем\n",
    "# \n",
    "# В области находится одна, единственная, итоговая модель машинного обучения с однозначными, \n",
    "# зафиксированными параметрами\n",
    "#\n",
    "# В данной области категорически запрещается искать, выбирать, улучшать, оптимизировать, \n",
    "# тюниговать и т.д. модель машинного обучения"
   ]
  },
  {
   "cell_type": "code",
   "execution_count": 5,
   "metadata": {},
   "outputs": [],
   "source": [
    "# Путь(название) к файлу(ам) (запрещено изменять)\n",
    "path_train = 'train.csv'\n",
    "path_test  = 'test.csv'\n",
    "\n",
    "# чтение файлов (разрещается использовать только указанные ранее пути)\n"
   ]
  },
  {
   "cell_type": "code",
   "execution_count": null,
   "metadata": {},
   "outputs": [],
   "source": []
  },
  {
   "cell_type": "code",
   "execution_count": 6,
   "metadata": {},
   "outputs": [],
   "source": [
    "# Блок(и) обучения и поверки модели"
   ]
  },
  {
   "cell_type": "code",
   "execution_count": null,
   "metadata": {},
   "outputs": [],
   "source": []
  },
  {
   "cell_type": "code",
   "execution_count": null,
   "metadata": {},
   "outputs": [],
   "source": []
  },
  {
   "cell_type": "code",
   "execution_count": 7,
   "metadata": {},
   "outputs": [],
   "source": [
    "# Блок предсказания с использованием test.csv\n",
    "#  \n",
    "# название вектора предсказанных значений  y_predict \n",
    "# название cписка индексов использованных в предсказании   mask_true "
   ]
  },
  {
   "cell_type": "code",
   "execution_count": null,
   "metadata": {},
   "outputs": [],
   "source": [
    "\n",
    "\n",
    "\n",
    "mask_true = \n",
    "y_predict ="
   ]
  }
 ],
 "metadata": {
  "kernelspec": {
   "display_name": "Python 3 (ipykernel)",
   "language": "python",
   "name": "python3"
  },
  "language_info": {
   "codemirror_mode": {
    "name": "ipython",
    "version": 3
   },
   "file_extension": ".py",
   "mimetype": "text/x-python",
   "name": "python",
   "nbconvert_exporter": "python",
   "pygments_lexer": "ipython3",
   "version": "3.8.13"
  }
 },
 "nbformat": 4,
 "nbformat_minor": 2
}
