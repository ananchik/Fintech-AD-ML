{
 "cells": [
  {
   "cell_type": "markdown",
   "metadata": {},
   "source": [
    "### Имя Фамилия"
   ]
  },
  {
   "cell_type": "markdown",
   "metadata": {},
   "source": [
    "# Рекурсия 99 бутылок молока!\n",
    "\n",
    "\n",
    "99 бутылок молока на борту <br>\n",
    "99 на борту<br>\n",
    "берёшь одну, пускаешь ко дну<br>\n",
    "98 осталось на борту\n",
    "\n",
    "…\n",
    "\n",
    "Нет бутылок молока на борту!<br>\n",
    "Пойди в магазин и и стяни ещё!<br>\n",
    "99 бутылок молока на борту!"
   ]
  },
  {
   "cell_type": "code",
   "execution_count": null,
   "metadata": {},
   "outputs": [],
   "source": []
  }
 ],
 "metadata": {
  "kernelspec": {
   "display_name": "Python 3 (ipykernel)",
   "language": "python",
   "name": "python3"
  },
  "language_info": {
   "codemirror_mode": {
    "name": "ipython",
    "version": 3
   },
   "file_extension": ".py",
   "mimetype": "text/x-python",
   "name": "python",
   "nbconvert_exporter": "python",
   "pygments_lexer": "ipython3",
   "version": "3.8.13"
  }
 },
 "nbformat": 4,
 "nbformat_minor": 4
}
