{
 "cells": [
  {
   "cell_type": "markdown",
   "metadata": {},
   "source": [
    "# Рекурсия 99 бутылок пива!\n",
    "\n",
    "\\<количество\\> бутылок пива на столе <br>\n",
    "\\<количество\\> бутылок пива! <br>\n",
    "Возьми одну, пусти по кругу <br>\n",
    "\\<количество минус 1\\> бутылок пива на столе! <br>\n",
    "\n",
    "...\n",
    "\n",
    "Нет бутылок пива на стене!<br>\n",
    "Нет бутылок пива!<br>\n",
    "Пойди в магазин и купи ещё,<br>\n",
    "99 бутылок пива на стене!<br>"
   ]
  },
  {
   "cell_type": "code",
   "execution_count": null,
   "metadata": {},
   "outputs": [],
   "source": []
  }
 ],
 "metadata": {
  "kernelspec": {
   "display_name": "Python 3",
   "language": "python",
   "name": "python3"
  },
  "language_info": {
   "codemirror_mode": {
    "name": "ipython",
    "version": 3
   },
   "file_extension": ".py",
   "mimetype": "text/x-python",
   "name": "python",
   "nbconvert_exporter": "python",
   "pygments_lexer": "ipython3",
   "version": "3.7.4"
  }
 },
 "nbformat": 4,
 "nbformat_minor": 4
}
